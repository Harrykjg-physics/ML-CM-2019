{
 "cells": [
  {
   "cell_type": "markdown",
   "metadata": {},
   "source": [
    "# Gaussian Mixture Model"
   ]
  },
  {
   "cell_type": "markdown",
   "metadata": {},
   "source": [
    "copyright: Jordan Venderley\n",
    "\n",
    "Requirements: \n",
    "- python 3\n",
    "- matplotlib\n",
    "- numpy\n",
    "- scikit learn : https://scikit-learn.org/stable/modules/generated/sklearn.mixture.GaussianMixture.html\n",
    "- Gaussian Process lecture note: http://cs229.stanford.edu/section/cs229-gaussian_processes.pdf"
   ]
  },
  {
   "cell_type": "markdown",
   "metadata": {},
   "source": [
    "## Generate Test Data"
   ]
  },
  {
   "cell_type": "code",
   "execution_count": null,
   "metadata": {},
   "outputs": [],
   "source": [
    "import numpy as np\n",
    "%matplotlib inline\n",
    "import matplotlib.pyplot as plt\n",
    " \n",
    "    \n",
    "mean_1      = np.array([0.5,0.5])\n",
    "cov_1       = 0.02*np.array([[2,1],[1,1]])\n",
    "sample_num1 = np.array([1000])\n",
    "data1       = np.random.multivariate_normal(mean_1,cov_1,sample_num1)\n",
    "\n",
    "mean_2      = np.array([-0.5,-0.5])\n",
    "cov_2       = 0.02*np.array([[2,-1],[-1,1]])\n",
    "sample_num2 = np.array([1000])\n",
    "data2       = np.random.multivariate_normal(mean_2,cov_2,sample_num2)\n",
    "\n",
    "# Join and randomly shuffle data\n",
    "data = np.vstack((data1,data2))\n",
    "np.random.shuffle(data)\n",
    "\n",
    "plt.figure(1);\n",
    "plt.scatter(np.transpose(data)[0],np.transpose(data)[1], 0.2);\n",
    "plt.xlim(-2,+2);\n",
    "plt.ylim(-2,+2);"
   ]
  },
  {
   "cell_type": "code",
   "execution_count": null,
   "metadata": {},
   "outputs": [],
   "source": [
    "import numpy as np\n",
    "from sklearn import mixture\n",
    "\n",
    "np.random.seed(1)\n",
    "n_components = 2\n",
    "GMM  = mixture.GaussianMixture(n_components)\n",
    "GMM.fit(data)\n",
    "labels = GMM.predict(data)\n",
    "\n",
    "for i in range(n_components):\n",
    "    print('Mean',i)\n",
    "    print(GMM.means_[i], '\\n')\n",
    "    print('Covariance',i)\n",
    "    print(GMM.covariances_[i],'\\n')\n",
    "\n",
    "# Plot Cluster Fits\n",
    "dx = .05\n",
    "X,Y = np.meshgrid(np.arange(-2, +2, dx), np.arange(-2, +2, dx))\n",
    "\n",
    "# Define exponential distribution\n",
    "def p(x, y, ind):\n",
    "    vec = np.array([x,y])\n",
    "    return 1.0/((2*np.pi)**2 * np.linalg.det(GMM.covariances_[ind]))**0.5 * np.exp(-0.5*np.transpose(vec-GMM.means_[ind])@np.linalg.inv(GMM.covariances_[ind])@(vec-GMM.means_[ind]))\n",
    "\n",
    "Z1 = np.vectorize(p)(*[X,Y], 0)\n",
    "Z2 = np.vectorize(p)(*[X,Y], 1)\n",
    "\n",
    "plt.figure(2)\n",
    "plt.contour(X,Y,Z1);\n",
    "plt.contour(X,Y,Z2);\n",
    "plt.scatter(np.transpose(data)[0],np.transpose(data)[1], s=0.2, c=labels, cmap='bwr');"
   ]
  },
  {
   "cell_type": "markdown",
   "metadata": {},
   "source": [
    "# Gaussian Processes"
   ]
  },
  {
   "cell_type": "markdown",
   "metadata": {},
   "source": [
    "## Generate Test Data for GPs"
   ]
  },
  {
   "cell_type": "code",
   "execution_count": null,
   "metadata": {},
   "outputs": [],
   "source": [
    "import numpy as np\n",
    "%matplotlib inline\n",
    "import matplotlib.pyplot as plt\n",
    "\n",
    "mu    = 0 \n",
    "sigma = 0.05\n",
    "\n",
    "xvals = np.arange(20)/2\n",
    "xvals = np.delete(xvals,[3,5,7,9,10,11,13,17])\n",
    "def f(x):\n",
    "    return np.log(1+x) + 0.5*np.sin(x)\n",
    "\n",
    "data  = f(xvals)\n",
    "plt.figure(1)\n",
    "plt.scatter(xvals,data,marker=\".\",s=100,c=\"black\");\n",
    "plt.xlabel('');\n",
    "plt.ylabel('y');"
   ]
  },
  {
   "cell_type": "code",
   "execution_count": null,
   "metadata": {},
   "outputs": [],
   "source": [
    "# Train data\n",
    "x_train = xvals\n",
    "y_train = (data-np.mean(data))\n",
    "\n",
    "# Test data\n",
    "sample_num     = 500 # number of sampling points\n",
    "max_sample_val = 10.3\n",
    "Xtest = np.arange(-0.3, max_sample_val+1e-6, max_sample_val/(sample_num-1))\n",
    "x_all = np.hstack((x_train,Xtest))\n",
    "\n",
    "def Ker(vec1, vec2, length_scale):\n",
    "    v1,v2 = np.meshgrid(vec1,vec2,indexing='ij')\n",
    "    return np.exp(-(v1-v2)**2/(2*length_scale**2))\n",
    "\n",
    "class GaussianProcess:\n",
    "    def __init__(self, Ker, length_scale, σ_noise, x_all, y_train):\n",
    "        \n",
    "        self.K = Ker(x_all,x_all,length_scale)\n",
    "        self.K11 = self.K[0:x_train.shape[0],0:x_train.shape[0]]\n",
    "        self.K21 = self.K[x_train.shape[0]:,0:x_train.shape[0]]\n",
    "        self.K12 = np.transpose(self.K21)\n",
    "        self.K22 = self.K[x_train.shape[0]:,x_train.shape[0]:]\n",
    "\n",
    "        self.σ_noise = σ_noise\n",
    "\n",
    "        self.K11_inv = np.linalg.inv(self.K11 + (self.σ_noise**2)*np.eye(self.K11.shape[0]))\n",
    "        self.μ_inferred = self.K21@self.K11_inv@y_train\n",
    "        self.Σ_inferred = (self.K22 + (self.σ_noise**2)*np.eye(self.K22.shape[0])) - self.K21@self.K11_inv@self.K12\n",
    "        self.std_dev    = np.sqrt(np.abs(np.diag(self.Σ_inferred)))\n",
    "\n",
    "def main():\n",
    "    length_scale = 1.; σ_noise = 1e-1;\n",
    "    GP = GaussianProcess(Ker,length_scale, σ_noise, x_all, y_train)\n",
    "    \n",
    "    plt.figure(4);\n",
    "    plt.plot(Xtest,np.mean(data) + GP.μ_inferred,'r--', lw=1.5);\n",
    "    std_dev_num = 1\n",
    "    plt.gca().fill_between(Xtest, np.mean(data) + GP.μ_inferred-std_dev_num*GP.std_dev, np.mean(data) + GP.μ_inferred+std_dev_num*GP.std_dev, color=\"#dddddd\")\n",
    "    plt.scatter(xvals,np.mean(data) + y_train,marker=\".\",s=100,c=\"black\");\n",
    "    plt.xlabel('x', fontsize=22)\n",
    "    plt.ylabel('f(x)', fontsize=22)\n",
    "    plt.rc('xtick', labelsize=14)\n",
    "    plt.rc('ytick', labelsize=14) \n",
    "    plt.plot(Xtest,f(Xtest),color=\"blue\",linewidth=3, alpha=0.4)\n",
    "    \n",
    "if __name__ == '__main__':\n",
    "    main() "
   ]
  },
  {
   "cell_type": "code",
   "execution_count": null,
   "metadata": {},
   "outputs": [],
   "source": []
  }
 ],
 "metadata": {
  "kernelspec": {
   "display_name": "Python 3",
   "language": "python",
   "name": "python3"
  },
  "language_info": {
   "codemirror_mode": {
    "name": "ipython",
    "version": 3
   },
   "file_extension": ".py",
   "mimetype": "text/x-python",
   "name": "python",
   "nbconvert_exporter": "python",
   "pygments_lexer": "ipython3",
   "version": "3.7.1"
  }
 },
 "nbformat": 4,
 "nbformat_minor": 2
}
