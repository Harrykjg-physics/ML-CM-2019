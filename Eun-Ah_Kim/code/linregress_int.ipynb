{
 "cells": [
  {
   "cell_type": "markdown",
   "metadata": {},
   "source": [
    "Learned how to do this from https://matplotlib.org/users/event_handling.html"
   ]
  },
  {
   "cell_type": "code",
   "execution_count": null,
   "metadata": {},
   "outputs": [],
   "source": [
    "import matplotlib.pyplot as plt\n",
    "import numpy as np\n",
    "from scipy.stats import linregress\n",
    "%matplotlib notebook"
   ]
  },
  {
   "cell_type": "code",
   "execution_count": null,
   "metadata": {},
   "outputs": [],
   "source": [
    "x=np.linspace(-5,5,3) #to draw the linear fit\n",
    "\n",
    "def onclick(event):  #process the clicks\n",
    "    global line,txt\n",
    "    plt.plot(event.xdata, event.ydata, 'ob') #add the point\n",
    "    xvalues.append(event.xdata)  #add coords to xdata,ydata lists\n",
    "    yvalues.append(event.ydata)\n",
    "    if len(xvalues)>1:  #have at least two datapoints\n",
    "        if line in fig.axes[0].lines: fig.axes[0].lines.remove(line) #remove previous line\n",
    "        if txt: txt.remove()  #remove previous rho value\n",
    "        a,b,r = linregress(xvalues, yvalues)[:3]  #get new slope, intercept, pearson r\n",
    "        txt = plt.text(2, -1.75, r'$\\rho={:.3f}$'.format(r), fontsize=15, color='r')\n",
    "        line, = plt.plot(x, a*x + b, 'b--')"
   ]
  },
  {
   "cell_type": "code",
   "execution_count": null,
   "metadata": {},
   "outputs": [],
   "source": [
    "xvalues,yvalues = [],[]  #lists of x,y datapoints\n",
    "txt,line = None,None #txt and line objects\n",
    "\n",
    "fig = plt.figure()\n",
    "plt.axis([-5,5, -2,2])  #xlim and ylim\n",
    "cid = fig.canvas.mpl_connect('button_press_event', onclick)"
   ]
  },
  {
   "cell_type": "code",
   "execution_count": null,
   "metadata": {},
   "outputs": [],
   "source": [
    "#rerun cell above to reinitialize, or run this cell to disconnect interactive\n",
    "fig.canvas.mpl_disconnect(cid)"
   ]
  },
  {
   "cell_type": "code",
   "execution_count": null,
   "metadata": {},
   "outputs": [],
   "source": []
  }
 ],
 "metadata": {
  "kernelspec": {
   "display_name": "Python 3",
   "language": "python",
   "name": "python3"
  },
  "language_info": {
   "codemirror_mode": {
    "name": "ipython",
    "version": 3
   },
   "file_extension": ".py",
   "mimetype": "text/x-python",
   "name": "python",
   "nbconvert_exporter": "python",
   "pygments_lexer": "ipython3",
   "version": "3.7.1"
  },
  "widgets": {
   "state": {
    "fff4c0246a6a46d5873b9a60fa7b3df6": {
     "views": [
      {
       "cell_index": 10
      }
     ]
    }
   },
   "version": "1.2.0"
  }
 },
 "nbformat": 4,
 "nbformat_minor": 1
}
